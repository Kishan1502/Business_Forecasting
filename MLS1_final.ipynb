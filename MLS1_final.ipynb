{
 "cells": [
  {
   "cell_type": "code",
   "execution_count": 1,
   "id": "3bcf434e",
   "metadata": {},
   "outputs": [],
   "source": [
    "import pandas as pd\n",
    "import numpy as np\n",
    "import statsmodels.api as sm\n",
    "from sklearn.model_selection import train_test_split"
   ]
  },
  {
   "cell_type": "code",
   "execution_count": 2,
   "id": "a82b6070",
   "metadata": {},
   "outputs": [
    {
     "data": {
      "text/html": [
       "<div>\n",
       "<style scoped>\n",
       "    .dataframe tbody tr th:only-of-type {\n",
       "        vertical-align: middle;\n",
       "    }\n",
       "\n",
       "    .dataframe tbody tr th {\n",
       "        vertical-align: top;\n",
       "    }\n",
       "\n",
       "    .dataframe thead th {\n",
       "        text-align: right;\n",
       "    }\n",
       "</style>\n",
       "<table border=\"1\" class=\"dataframe\">\n",
       "  <thead>\n",
       "    <tr style=\"text-align: right;\">\n",
       "      <th></th>\n",
       "      <th>Sales</th>\n",
       "      <th>CompPrice</th>\n",
       "      <th>Income</th>\n",
       "      <th>Promotion</th>\n",
       "      <th>Price</th>\n",
       "      <th>Display</th>\n",
       "      <th>Age</th>\n",
       "    </tr>\n",
       "  </thead>\n",
       "  <tbody>\n",
       "    <tr>\n",
       "      <th>0</th>\n",
       "      <td>95</td>\n",
       "      <td>1380</td>\n",
       "      <td>73</td>\n",
       "      <td>11</td>\n",
       "      <td>1200</td>\n",
       "      <td>0</td>\n",
       "      <td>42</td>\n",
       "    </tr>\n",
       "    <tr>\n",
       "      <th>1</th>\n",
       "      <td>112</td>\n",
       "      <td>1110</td>\n",
       "      <td>48</td>\n",
       "      <td>16</td>\n",
       "      <td>830</td>\n",
       "      <td>2</td>\n",
       "      <td>65</td>\n",
       "    </tr>\n",
       "    <tr>\n",
       "      <th>2</th>\n",
       "      <td>101</td>\n",
       "      <td>1130</td>\n",
       "      <td>35</td>\n",
       "      <td>10</td>\n",
       "      <td>800</td>\n",
       "      <td>1</td>\n",
       "      <td>59</td>\n",
       "    </tr>\n",
       "    <tr>\n",
       "      <th>3</th>\n",
       "      <td>74</td>\n",
       "      <td>1170</td>\n",
       "      <td>100</td>\n",
       "      <td>4</td>\n",
       "      <td>970</td>\n",
       "      <td>1</td>\n",
       "      <td>55</td>\n",
       "    </tr>\n",
       "    <tr>\n",
       "      <th>4</th>\n",
       "      <td>42</td>\n",
       "      <td>1410</td>\n",
       "      <td>64</td>\n",
       "      <td>3</td>\n",
       "      <td>1280</td>\n",
       "      <td>0</td>\n",
       "      <td>38</td>\n",
       "    </tr>\n",
       "    <tr>\n",
       "      <th>...</th>\n",
       "      <td>...</td>\n",
       "      <td>...</td>\n",
       "      <td>...</td>\n",
       "      <td>...</td>\n",
       "      <td>...</td>\n",
       "      <td>...</td>\n",
       "      <td>...</td>\n",
       "    </tr>\n",
       "    <tr>\n",
       "      <th>395</th>\n",
       "      <td>126</td>\n",
       "      <td>1380</td>\n",
       "      <td>108</td>\n",
       "      <td>17</td>\n",
       "      <td>1280</td>\n",
       "      <td>2</td>\n",
       "      <td>33</td>\n",
       "    </tr>\n",
       "    <tr>\n",
       "      <th>396</th>\n",
       "      <td>61</td>\n",
       "      <td>1390</td>\n",
       "      <td>23</td>\n",
       "      <td>3</td>\n",
       "      <td>1200</td>\n",
       "      <td>1</td>\n",
       "      <td>55</td>\n",
       "    </tr>\n",
       "    <tr>\n",
       "      <th>397</th>\n",
       "      <td>74</td>\n",
       "      <td>1620</td>\n",
       "      <td>26</td>\n",
       "      <td>12</td>\n",
       "      <td>1590</td>\n",
       "      <td>1</td>\n",
       "      <td>40</td>\n",
       "    </tr>\n",
       "    <tr>\n",
       "      <th>398</th>\n",
       "      <td>59</td>\n",
       "      <td>1000</td>\n",
       "      <td>79</td>\n",
       "      <td>7</td>\n",
       "      <td>950</td>\n",
       "      <td>0</td>\n",
       "      <td>50</td>\n",
       "    </tr>\n",
       "    <tr>\n",
       "      <th>399</th>\n",
       "      <td>97</td>\n",
       "      <td>1340</td>\n",
       "      <td>37</td>\n",
       "      <td>0</td>\n",
       "      <td>1200</td>\n",
       "      <td>2</td>\n",
       "      <td>49</td>\n",
       "    </tr>\n",
       "  </tbody>\n",
       "</table>\n",
       "<p>400 rows × 7 columns</p>\n",
       "</div>"
      ],
      "text/plain": [
       "     Sales  CompPrice  Income  Promotion  Price  Display  Age\n",
       "0       95       1380      73         11   1200        0   42\n",
       "1      112       1110      48         16    830        2   65\n",
       "2      101       1130      35         10    800        1   59\n",
       "3       74       1170     100          4    970        1   55\n",
       "4       42       1410      64          3   1280        0   38\n",
       "..     ...        ...     ...        ...    ...      ...  ...\n",
       "395    126       1380     108         17   1280        2   33\n",
       "396     61       1390      23          3   1200        1   55\n",
       "397     74       1620      26         12   1590        1   40\n",
       "398     59       1000      79          7    950        0   50\n",
       "399     97       1340      37          0   1200        2   49\n",
       "\n",
       "[400 rows x 7 columns]"
      ]
     },
     "execution_count": 2,
     "metadata": {},
     "output_type": "execute_result"
    }
   ],
   "source": [
    "cook=pd.read_csv(\"C:\\\\Users\\\\HP\\\\Desktop\\\\Course\\\\Datas\\\\Cook.csv\")\n",
    "cook"
   ]
  },
  {
   "cell_type": "code",
   "execution_count": 9,
   "id": "dee43357",
   "metadata": {},
   "outputs": [
    {
     "name": "stdout",
     "output_type": "stream",
     "text": [
      "<class 'pandas.core.frame.DataFrame'>\n",
      "RangeIndex: 400 entries, 0 to 399\n",
      "Data columns (total 7 columns):\n",
      " #   Column     Non-Null Count  Dtype\n",
      "---  ------     --------------  -----\n",
      " 0   Sales      400 non-null    int64\n",
      " 1   CompPrice  400 non-null    int64\n",
      " 2   Income     400 non-null    int64\n",
      " 3   Promotion  400 non-null    int64\n",
      " 4   Price      400 non-null    int64\n",
      " 5   Display    400 non-null    int64\n",
      " 6   Age        400 non-null    int64\n",
      "dtypes: int64(7)\n",
      "memory usage: 22.0 KB\n"
     ]
    }
   ],
   "source": [
    "cook.info()"
   ]
  },
  {
   "cell_type": "code",
   "execution_count": 10,
   "id": "83dbb641",
   "metadata": {},
   "outputs": [
    {
     "data": {
      "text/html": [
       "<div>\n",
       "<style scoped>\n",
       "    .dataframe tbody tr th:only-of-type {\n",
       "        vertical-align: middle;\n",
       "    }\n",
       "\n",
       "    .dataframe tbody tr th {\n",
       "        vertical-align: top;\n",
       "    }\n",
       "\n",
       "    .dataframe thead th {\n",
       "        text-align: right;\n",
       "    }\n",
       "</style>\n",
       "<table border=\"1\" class=\"dataframe\">\n",
       "  <thead>\n",
       "    <tr style=\"text-align: right;\">\n",
       "      <th></th>\n",
       "      <th>Sales</th>\n",
       "      <th>CompPrice</th>\n",
       "      <th>Income</th>\n",
       "      <th>Promotion</th>\n",
       "      <th>Price</th>\n",
       "      <th>Display</th>\n",
       "      <th>Age</th>\n",
       "    </tr>\n",
       "  </thead>\n",
       "  <tbody>\n",
       "    <tr>\n",
       "      <th>0</th>\n",
       "      <td>95</td>\n",
       "      <td>1380</td>\n",
       "      <td>73</td>\n",
       "      <td>11</td>\n",
       "      <td>1200</td>\n",
       "      <td>0</td>\n",
       "      <td>42</td>\n",
       "    </tr>\n",
       "    <tr>\n",
       "      <th>1</th>\n",
       "      <td>112</td>\n",
       "      <td>1110</td>\n",
       "      <td>48</td>\n",
       "      <td>16</td>\n",
       "      <td>830</td>\n",
       "      <td>2</td>\n",
       "      <td>65</td>\n",
       "    </tr>\n",
       "    <tr>\n",
       "      <th>2</th>\n",
       "      <td>101</td>\n",
       "      <td>1130</td>\n",
       "      <td>35</td>\n",
       "      <td>10</td>\n",
       "      <td>800</td>\n",
       "      <td>1</td>\n",
       "      <td>59</td>\n",
       "    </tr>\n",
       "    <tr>\n",
       "      <th>3</th>\n",
       "      <td>74</td>\n",
       "      <td>1170</td>\n",
       "      <td>100</td>\n",
       "      <td>4</td>\n",
       "      <td>970</td>\n",
       "      <td>1</td>\n",
       "      <td>55</td>\n",
       "    </tr>\n",
       "  </tbody>\n",
       "</table>\n",
       "</div>"
      ],
      "text/plain": [
       "   Sales  CompPrice  Income  Promotion  Price  Display  Age\n",
       "0     95       1380      73         11   1200        0   42\n",
       "1    112       1110      48         16    830        2   65\n",
       "2    101       1130      35         10    800        1   59\n",
       "3     74       1170     100          4    970        1   55"
      ]
     },
     "execution_count": 10,
     "metadata": {},
     "output_type": "execute_result"
    }
   ],
   "source": [
    "cook.head(4)"
   ]
  },
  {
   "cell_type": "code",
   "execution_count": 12,
   "id": "21230443",
   "metadata": {},
   "outputs": [],
   "source": [
    "X_features=['CompPrice', 'Income','Promotion','Price','Display','Age']"
   ]
  },
  {
   "cell_type": "code",
   "execution_count": 15,
   "id": "d1d067d7",
   "metadata": {},
   "outputs": [],
   "source": [
    "categorical_features=['Display']"
   ]
  },
  {
   "cell_type": "code",
   "execution_count": 16,
   "id": "7f5a28ed",
   "metadata": {},
   "outputs": [],
   "source": [
    "cook_encoded=pd.get_dummies(cook[X_features], columns=categorical_features, drop_first=True)"
   ]
  },
  {
   "cell_type": "code",
   "execution_count": 17,
   "id": "b42e9c7c",
   "metadata": {},
   "outputs": [
    {
     "data": {
      "text/plain": [
       "Index(['CompPrice', 'Income', 'Promotion', 'Price', 'Age', 'Display_1',\n",
       "       'Display_2'],\n",
       "      dtype='object')"
      ]
     },
     "execution_count": 17,
     "metadata": {},
     "output_type": "execute_result"
    }
   ],
   "source": [
    "cook_encoded.columns"
   ]
  },
  {
   "cell_type": "code",
   "execution_count": 18,
   "id": "5d842343",
   "metadata": {},
   "outputs": [],
   "source": [
    "mlrX=sm.add_constant(cook_encoded)\n",
    "mlrY=cook['Sales']"
   ]
  },
  {
   "cell_type": "code",
   "execution_count": 19,
   "id": "076d8536",
   "metadata": {},
   "outputs": [],
   "source": [
    "MLRtrain_X, MLRtest_X, MLRtrain_Y, MLRtest_Y=train_test_split(mlrX,mlrY, train_size=0.8,random_state=42)"
   ]
  },
  {
   "cell_type": "code",
   "execution_count": 21,
   "metadata": {},
   "outputs": [],
   "source": [
    "# Convert data to NumPy arrays\n",
    "X = sm.add_constant(MLRtrain_X.values)  # Add a constant term for the intercept\n",
    "y = MLRtrain_Y.values"
   ]
  },
  {
   "cell_type": "code",
   "execution_count": 22,
   "metadata": {},
   "outputs": [
    {
     "name": "stdout",
     "output_type": "stream",
     "text": [
      "object\n",
      "int64\n"
     ]
    }
   ],
   "source": [
    "print(X.dtype)\n",
    "print(y.dtype)\n"
   ]
  },
  {
   "cell_type": "code",
   "execution_count": 23,
   "metadata": {},
   "outputs": [],
   "source": [
    "X = X.astype(float)\n",
    "y = y.astype(float)\n"
   ]
  },
  {
   "cell_type": "code",
   "execution_count": 24,
   "metadata": {},
   "outputs": [
    {
     "name": "stdout",
     "output_type": "stream",
     "text": [
      "0\n",
      "0\n",
      "2560\n",
      "320\n"
     ]
    }
   ],
   "source": [
    "print(np.isnan(X).sum())\n",
    "print(np.isnan(y).sum())\n",
    "\n",
    "X[np.isnan(X)] = 0  # Replace NaN with 0 or another appropriate value\n",
    "y[np.isnan(y)] = 0\n",
    "\n",
    "print(np.isfinite(X).sum())\n",
    "print(np.isfinite(y).sum())\n"
   ]
  },
  {
   "cell_type": "code",
   "execution_count": 25,
   "metadata": {},
   "outputs": [],
   "source": [
    "cook_MLRmodel = sm.OLS(y, X).fit()"
   ]
  },
  {
   "cell_type": "code",
   "execution_count": 26,
   "id": "9c45960a",
   "metadata": {},
   "outputs": [
    {
     "data": {
      "text/html": [
       "<table class=\"simpletable\">\n",
       "<caption>OLS Regression Results</caption>\n",
       "<tr>\n",
       "  <th>Dep. Variable:</th>            <td>y</td>        <th>  R-squared:         </th> <td>   0.863</td> \n",
       "</tr>\n",
       "<tr>\n",
       "  <th>Model:</th>                   <td>OLS</td>       <th>  Adj. R-squared:    </th> <td>   0.860</td> \n",
       "</tr>\n",
       "<tr>\n",
       "  <th>Method:</th>             <td>Least Squares</td>  <th>  F-statistic:       </th> <td>   281.5</td> \n",
       "</tr>\n",
       "<tr>\n",
       "  <th>Date:</th>             <td>Wed, 29 Nov 2023</td> <th>  Prob (F-statistic):</th> <td>9.73e-131</td>\n",
       "</tr>\n",
       "<tr>\n",
       "  <th>Time:</th>                 <td>20:19:45</td>     <th>  Log-Likelihood:    </th> <td> -1193.1</td> \n",
       "</tr>\n",
       "<tr>\n",
       "  <th>No. Observations:</th>      <td>   320</td>      <th>  AIC:               </th> <td>   2402.</td> \n",
       "</tr>\n",
       "<tr>\n",
       "  <th>Df Residuals:</th>          <td>   312</td>      <th>  BIC:               </th> <td>   2432.</td> \n",
       "</tr>\n",
       "<tr>\n",
       "  <th>Df Model:</th>              <td>     7</td>      <th>                     </th>     <td> </td>    \n",
       "</tr>\n",
       "<tr>\n",
       "  <th>Covariance Type:</th>      <td>nonrobust</td>    <th>                     </th>     <td> </td>    \n",
       "</tr>\n",
       "</table>\n",
       "<table class=\"simpletable\">\n",
       "<tr>\n",
       "    <td></td>       <th>coef</th>     <th>std err</th>      <th>t</th>      <th>P>|t|</th>  <th>[0.025</th>    <th>0.975]</th>  \n",
       "</tr>\n",
       "<tr>\n",
       "  <th>const</th> <td>   59.7818</td> <td>    5.693</td> <td>   10.501</td> <td> 0.000</td> <td>   48.581</td> <td>   70.983</td>\n",
       "</tr>\n",
       "<tr>\n",
       "  <th>x1</th>    <td>    0.0898</td> <td>    0.005</td> <td>   18.973</td> <td> 0.000</td> <td>    0.080</td> <td>    0.099</td>\n",
       "</tr>\n",
       "<tr>\n",
       "  <th>x2</th>    <td>    0.1514</td> <td>    0.020</td> <td>    7.414</td> <td> 0.000</td> <td>    0.111</td> <td>    0.192</td>\n",
       "</tr>\n",
       "<tr>\n",
       "  <th>x3</th>    <td>    1.1470</td> <td>    0.087</td> <td>   13.224</td> <td> 0.000</td> <td>    0.976</td> <td>    1.318</td>\n",
       "</tr>\n",
       "<tr>\n",
       "  <th>x4</th>    <td>   -0.0957</td> <td>    0.003</td> <td>  -30.901</td> <td> 0.000</td> <td>   -0.102</td> <td>   -0.090</td>\n",
       "</tr>\n",
       "<tr>\n",
       "  <th>x5</th>    <td>   -0.4783</td> <td>    0.035</td> <td>  -13.646</td> <td> 0.000</td> <td>   -0.547</td> <td>   -0.409</td>\n",
       "</tr>\n",
       "<tr>\n",
       "  <th>x6</th>    <td>   20.4037</td> <td>    1.403</td> <td>   14.540</td> <td> 0.000</td> <td>   17.643</td> <td>   23.165</td>\n",
       "</tr>\n",
       "<tr>\n",
       "  <th>x7</th>    <td>   48.4505</td> <td>    1.750</td> <td>   27.684</td> <td> 0.000</td> <td>   45.007</td> <td>   51.894</td>\n",
       "</tr>\n",
       "</table>\n",
       "<table class=\"simpletable\">\n",
       "<tr>\n",
       "  <th>Omnibus:</th>       <td> 0.205</td> <th>  Durbin-Watson:     </th> <td>   1.957</td>\n",
       "</tr>\n",
       "<tr>\n",
       "  <th>Prob(Omnibus):</th> <td> 0.902</td> <th>  Jarque-Bera (JB):  </th> <td>   0.208</td>\n",
       "</tr>\n",
       "<tr>\n",
       "  <th>Skew:</th>          <td> 0.060</td> <th>  Prob(JB):          </th> <td>   0.901</td>\n",
       "</tr>\n",
       "<tr>\n",
       "  <th>Kurtosis:</th>      <td> 2.966</td> <th>  Cond. No.          </th> <td>1.72e+04</td>\n",
       "</tr>\n",
       "</table><br/><br/>Notes:<br/>[1] Standard Errors assume that the covariance matrix of the errors is correctly specified.<br/>[2] The condition number is large, 1.72e+04. This might indicate that there are<br/>strong multicollinearity or other numerical problems."
      ],
      "text/latex": [
       "\\begin{center}\n",
       "\\begin{tabular}{lclc}\n",
       "\\toprule\n",
       "\\textbf{Dep. Variable:}    &        y         & \\textbf{  R-squared:         } &     0.863   \\\\\n",
       "\\textbf{Model:}            &       OLS        & \\textbf{  Adj. R-squared:    } &     0.860   \\\\\n",
       "\\textbf{Method:}           &  Least Squares   & \\textbf{  F-statistic:       } &     281.5   \\\\\n",
       "\\textbf{Date:}             & Wed, 29 Nov 2023 & \\textbf{  Prob (F-statistic):} & 9.73e-131   \\\\\n",
       "\\textbf{Time:}             &     20:19:45     & \\textbf{  Log-Likelihood:    } &   -1193.1   \\\\\n",
       "\\textbf{No. Observations:} &         320      & \\textbf{  AIC:               } &     2402.   \\\\\n",
       "\\textbf{Df Residuals:}     &         312      & \\textbf{  BIC:               } &     2432.   \\\\\n",
       "\\textbf{Df Model:}         &           7      & \\textbf{                     } &             \\\\\n",
       "\\textbf{Covariance Type:}  &    nonrobust     & \\textbf{                     } &             \\\\\n",
       "\\bottomrule\n",
       "\\end{tabular}\n",
       "\\begin{tabular}{lcccccc}\n",
       "               & \\textbf{coef} & \\textbf{std err} & \\textbf{t} & \\textbf{P$> |$t$|$} & \\textbf{[0.025} & \\textbf{0.975]}  \\\\\n",
       "\\midrule\n",
       "\\textbf{const} &      59.7818  &        5.693     &    10.501  &         0.000        &       48.581    &       70.983     \\\\\n",
       "\\textbf{x1}    &       0.0898  &        0.005     &    18.973  &         0.000        &        0.080    &        0.099     \\\\\n",
       "\\textbf{x2}    &       0.1514  &        0.020     &     7.414  &         0.000        &        0.111    &        0.192     \\\\\n",
       "\\textbf{x3}    &       1.1470  &        0.087     &    13.224  &         0.000        &        0.976    &        1.318     \\\\\n",
       "\\textbf{x4}    &      -0.0957  &        0.003     &   -30.901  &         0.000        &       -0.102    &       -0.090     \\\\\n",
       "\\textbf{x5}    &      -0.4783  &        0.035     &   -13.646  &         0.000        &       -0.547    &       -0.409     \\\\\n",
       "\\textbf{x6}    &      20.4037  &        1.403     &    14.540  &         0.000        &       17.643    &       23.165     \\\\\n",
       "\\textbf{x7}    &      48.4505  &        1.750     &    27.684  &         0.000        &       45.007    &       51.894     \\\\\n",
       "\\bottomrule\n",
       "\\end{tabular}\n",
       "\\begin{tabular}{lclc}\n",
       "\\textbf{Omnibus:}       &  0.205 & \\textbf{  Durbin-Watson:     } &    1.957  \\\\\n",
       "\\textbf{Prob(Omnibus):} &  0.902 & \\textbf{  Jarque-Bera (JB):  } &    0.208  \\\\\n",
       "\\textbf{Skew:}          &  0.060 & \\textbf{  Prob(JB):          } &    0.901  \\\\\n",
       "\\textbf{Kurtosis:}      &  2.966 & \\textbf{  Cond. No.          } & 1.72e+04  \\\\\n",
       "\\bottomrule\n",
       "\\end{tabular}\n",
       "%\\caption{OLS Regression Results}\n",
       "\\end{center}\n",
       "\n",
       "Notes: \\newline\n",
       " [1] Standard Errors assume that the covariance matrix of the errors is correctly specified. \\newline\n",
       " [2] The condition number is large, 1.72e+04. This might indicate that there are \\newline\n",
       " strong multicollinearity or other numerical problems."
      ],
      "text/plain": [
       "<class 'statsmodels.iolib.summary.Summary'>\n",
       "\"\"\"\n",
       "                            OLS Regression Results                            \n",
       "==============================================================================\n",
       "Dep. Variable:                      y   R-squared:                       0.863\n",
       "Model:                            OLS   Adj. R-squared:                  0.860\n",
       "Method:                 Least Squares   F-statistic:                     281.5\n",
       "Date:                Wed, 29 Nov 2023   Prob (F-statistic):          9.73e-131\n",
       "Time:                        20:19:45   Log-Likelihood:                -1193.1\n",
       "No. Observations:                 320   AIC:                             2402.\n",
       "Df Residuals:                     312   BIC:                             2432.\n",
       "Df Model:                           7                                         \n",
       "Covariance Type:            nonrobust                                         \n",
       "==============================================================================\n",
       "                 coef    std err          t      P>|t|      [0.025      0.975]\n",
       "------------------------------------------------------------------------------\n",
       "const         59.7818      5.693     10.501      0.000      48.581      70.983\n",
       "x1             0.0898      0.005     18.973      0.000       0.080       0.099\n",
       "x2             0.1514      0.020      7.414      0.000       0.111       0.192\n",
       "x3             1.1470      0.087     13.224      0.000       0.976       1.318\n",
       "x4            -0.0957      0.003    -30.901      0.000      -0.102      -0.090\n",
       "x5            -0.4783      0.035    -13.646      0.000      -0.547      -0.409\n",
       "x6            20.4037      1.403     14.540      0.000      17.643      23.165\n",
       "x7            48.4505      1.750     27.684      0.000      45.007      51.894\n",
       "==============================================================================\n",
       "Omnibus:                        0.205   Durbin-Watson:                   1.957\n",
       "Prob(Omnibus):                  0.902   Jarque-Bera (JB):                0.208\n",
       "Skew:                           0.060   Prob(JB):                        0.901\n",
       "Kurtosis:                       2.966   Cond. No.                     1.72e+04\n",
       "==============================================================================\n",
       "\n",
       "Notes:\n",
       "[1] Standard Errors assume that the covariance matrix of the errors is correctly specified.\n",
       "[2] The condition number is large, 1.72e+04. This might indicate that there are\n",
       "strong multicollinearity or other numerical problems.\n",
       "\"\"\""
      ]
     },
     "execution_count": 26,
     "metadata": {},
     "output_type": "execute_result"
    }
   ],
   "source": [
    "cook_MLRmodel.summary()"
   ]
  },
  {
   "cell_type": "code",
   "execution_count": 27,
   "id": "798bbd90",
   "metadata": {},
   "outputs": [
    {
     "data": {
      "text/plain": [
       "array([59.7818258 ,  0.08975402,  0.15138563,  1.1469672 , -0.09569294,\n",
       "       -0.47833991, 20.40368077, 48.45052555])"
      ]
     },
     "execution_count": 27,
     "metadata": {},
     "output_type": "execute_result"
    }
   ],
   "source": [
    "cook_MLRmodel.params"
   ]
  },
  {
   "cell_type": "code",
   "execution_count": 28,
   "id": "ae444e1d",
   "metadata": {},
   "outputs": [],
   "source": [
    "MLRpredict_y=cook_MLRmodel.predict(MLRtest_X[MLRtrain_X.columns])"
   ]
  },
  {
   "cell_type": "code",
   "execution_count": 29,
   "id": "11c7e7f6",
   "metadata": {},
   "outputs": [],
   "source": [
    "from sklearn.metrics import mean_absolute_percentage_error"
   ]
  },
  {
   "cell_type": "code",
   "execution_count": 30,
   "id": "33ec4d21",
   "metadata": {},
   "outputs": [
    {
     "data": {
      "text/plain": [
       "0.11572460932666048"
      ]
     },
     "execution_count": 30,
     "metadata": {},
     "output_type": "execute_result"
    }
   ],
   "source": [
    "np.abs(mean_absolute_percentage_error(MLRtest_Y, MLRpredict_y))"
   ]
  },
  {
   "cell_type": "code",
   "execution_count": null,
   "id": "9fffcc83",
   "metadata": {},
   "outputs": [],
   "source": []
  }
 ],
 "metadata": {
  "kernelspec": {
   "display_name": "Python 3 (ipykernel)",
   "language": "python",
   "name": "python3"
  },
  "language_info": {
   "codemirror_mode": {
    "name": "ipython",
    "version": 3
   },
   "file_extension": ".py",
   "mimetype": "text/x-python",
   "name": "python",
   "nbconvert_exporter": "python",
   "pygments_lexer": "ipython3",
   "version": "3.11.7"
  }
 },
 "nbformat": 4,
 "nbformat_minor": 5
}
