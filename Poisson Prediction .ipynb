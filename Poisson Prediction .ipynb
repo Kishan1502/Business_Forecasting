{
 "cells": [
  {
   "cell_type": "code",
   "execution_count": 1,
   "id": "1d6a3f07",
   "metadata": {},
   "outputs": [],
   "source": [
    "\n",
    "import pandas as pd"
   ]
  },
  {
   "cell_type": "code",
   "execution_count": null,
   "id": "e2d0fc72",
   "metadata": {},
   "outputs": [],
   "source": [
    "# For  a particular  fruit shop, on an average 3 customers arrive in the shop every 10 minutes. The mean rate here is 3. Forecast the probability that 5 customers will arrive in the next 10 mins?"
   ]
  },
  {
   "cell_type": "code",
   "execution_count": null,
   "id": "e06e24d2",
   "metadata": {},
   "outputs": [],
   "source": [
    "#https://byjus.com/maths/factorial/"
   ]
  },
  {
   "cell_type": "code",
   "execution_count": 4,
   "id": "0cae0d0e",
   "metadata": {},
   "outputs": [],
   "source": [
    "import seaborn as sb\n",
    "import matplotlib.pyplot as plt\n",
    "import numpy as np\n",
    "from scipy.stats import poisson\n",
    " \n",
    "#Applying the poisson class methods\n",
    "x = np.arange(0,20)\n",
    "\n"
   ]
  },
  {
   "cell_type": "code",
   "execution_count": 3,
   "id": "80bfb6d8",
   "metadata": {},
   "outputs": [
    {
     "name": "stdout",
     "output_type": "stream",
     "text": [
      "Collecting scipy\n",
      "  Obtaining dependency information for scipy from https://files.pythonhosted.org/packages/81/d7/d2537d51efb692d0c411e64267ba349e7668d40f5bc73cefe78ccd650dcd/scipy-1.11.3-cp311-cp311-win_amd64.whl.metadata\n",
      "  Downloading scipy-1.11.3-cp311-cp311-win_amd64.whl.metadata (60 kB)\n",
      "     ---------------------------------------- 0.0/60.4 kB ? eta -:--:--\n",
      "     ------ --------------------------------- 10.2/60.4 kB ? eta -:--:--\n",
      "     -------------------------------- ----- 51.2/60.4 kB 660.6 kB/s eta 0:00:01\n",
      "     -------------------------------------- 60.4/60.4 kB 643.2 kB/s eta 0:00:00\n",
      "Requirement already satisfied: numpy<1.28.0,>=1.21.6 in c:\\users\\hp\\appdata\\local\\packages\\pythonsoftwarefoundation.python.3.11_qbz5n2kfra8p0\\localcache\\local-packages\\python311\\site-packages (from scipy) (1.25.2)\n",
      "Downloading scipy-1.11.3-cp311-cp311-win_amd64.whl (44.1 MB)\n",
      "   ---------------------------------------- 0.0/44.1 MB ? eta -:--:--\n",
      "   ---------------------------------------- 0.2/44.1 MB 6.9 MB/s eta 0:00:07\n",
      "   ---------------------------------------- 0.4/44.1 MB 6.2 MB/s eta 0:00:08\n",
      "    --------------------------------------- 0.6/44.1 MB 4.9 MB/s eta 0:00:09\n",
      "    --------------------------------------- 0.9/44.1 MB 4.9 MB/s eta 0:00:09\n",
      "   - -------------------------------------- 1.1/44.1 MB 5.4 MB/s eta 0:00:08\n",
      "   - -------------------------------------- 1.4/44.1 MB 5.3 MB/s eta 0:00:09\n",
      "   - -------------------------------------- 1.7/44.1 MB 5.4 MB/s eta 0:00:08\n",
      "   - -------------------------------------- 2.0/44.1 MB 5.5 MB/s eta 0:00:08\n",
      "   - -------------------------------------- 2.2/44.1 MB 5.1 MB/s eta 0:00:09\n",
      "   -- ------------------------------------- 2.4/44.1 MB 5.4 MB/s eta 0:00:08\n",
      "   -- ------------------------------------- 2.6/44.1 MB 5.2 MB/s eta 0:00:08\n",
      "   -- ------------------------------------- 3.0/44.1 MB 5.5 MB/s eta 0:00:08\n",
      "   -- ------------------------------------- 3.2/44.1 MB 5.4 MB/s eta 0:00:08\n",
      "   --- ------------------------------------ 3.6/44.1 MB 5.6 MB/s eta 0:00:08\n",
      "   --- ------------------------------------ 3.8/44.1 MB 5.7 MB/s eta 0:00:08\n",
      "   --- ------------------------------------ 4.2/44.1 MB 5.7 MB/s eta 0:00:08\n",
      "   --- ------------------------------------ 4.3/44.1 MB 5.8 MB/s eta 0:00:07\n",
      "   ---- ----------------------------------- 4.6/44.1 MB 5.6 MB/s eta 0:00:08\n",
      "   ---- ----------------------------------- 5.0/44.1 MB 5.8 MB/s eta 0:00:07\n",
      "   ---- ----------------------------------- 5.2/44.1 MB 5.8 MB/s eta 0:00:07\n",
      "   ---- ----------------------------------- 5.4/44.1 MB 5.8 MB/s eta 0:00:07\n",
      "   ----- ---------------------------------- 5.7/44.1 MB 5.7 MB/s eta 0:00:07\n",
      "   ----- ---------------------------------- 5.9/44.1 MB 5.7 MB/s eta 0:00:07\n",
      "   ----- ---------------------------------- 6.2/44.1 MB 5.7 MB/s eta 0:00:07\n",
      "   ----- ---------------------------------- 6.4/44.1 MB 5.7 MB/s eta 0:00:07\n",
      "   ------ --------------------------------- 6.7/44.1 MB 5.7 MB/s eta 0:00:07\n",
      "   ------ --------------------------------- 7.0/44.1 MB 5.6 MB/s eta 0:00:07\n",
      "   ------ --------------------------------- 7.4/44.1 MB 5.8 MB/s eta 0:00:07\n",
      "   ------ --------------------------------- 7.7/44.1 MB 5.8 MB/s eta 0:00:07\n",
      "   ------- -------------------------------- 7.9/44.1 MB 5.9 MB/s eta 0:00:07\n",
      "   ------- -------------------------------- 8.0/44.1 MB 5.8 MB/s eta 0:00:07\n",
      "   ------- -------------------------------- 8.3/44.1 MB 5.8 MB/s eta 0:00:07\n",
      "   ------- -------------------------------- 8.5/44.1 MB 5.8 MB/s eta 0:00:07\n",
      "   ------- -------------------------------- 8.5/44.1 MB 5.7 MB/s eta 0:00:07\n",
      "   ------- -------------------------------- 8.6/44.1 MB 5.5 MB/s eta 0:00:07\n",
      "   -------- ------------------------------- 8.8/44.1 MB 5.5 MB/s eta 0:00:07\n",
      "   -------- ------------------------------- 9.1/44.1 MB 5.5 MB/s eta 0:00:07\n",
      "   -------- ------------------------------- 9.4/44.1 MB 5.5 MB/s eta 0:00:07\n",
      "   -------- ------------------------------- 9.5/44.1 MB 5.4 MB/s eta 0:00:07\n",
      "   -------- ------------------------------- 9.7/44.1 MB 5.5 MB/s eta 0:00:07\n",
      "   -------- ------------------------------- 9.9/44.1 MB 5.4 MB/s eta 0:00:07\n",
      "   --------- ------------------------------ 10.2/44.1 MB 5.4 MB/s eta 0:00:07\n",
      "   --------- ------------------------------ 10.5/44.1 MB 5.5 MB/s eta 0:00:07\n",
      "   --------- ------------------------------ 10.7/44.1 MB 5.5 MB/s eta 0:00:07\n",
      "   ---------- ----------------------------- 11.0/44.1 MB 5.5 MB/s eta 0:00:07\n",
      "   ---------- ----------------------------- 11.2/44.1 MB 5.5 MB/s eta 0:00:07\n",
      "   ---------- ----------------------------- 11.4/44.1 MB 5.5 MB/s eta 0:00:06\n",
      "   ---------- ----------------------------- 11.6/44.1 MB 5.5 MB/s eta 0:00:06\n",
      "   ---------- ----------------------------- 11.7/44.1 MB 5.3 MB/s eta 0:00:07\n",
      "   ---------- ----------------------------- 12.0/44.1 MB 5.4 MB/s eta 0:00:06\n",
      "   ----------- ---------------------------- 12.4/44.1 MB 5.5 MB/s eta 0:00:06\n",
      "   ----------- ---------------------------- 12.6/44.1 MB 5.5 MB/s eta 0:00:06\n",
      "   ----------- ---------------------------- 12.9/44.1 MB 5.5 MB/s eta 0:00:06\n",
      "   ------------ --------------------------- 13.3/44.1 MB 5.5 MB/s eta 0:00:06\n",
      "   ------------ --------------------------- 13.5/44.1 MB 5.5 MB/s eta 0:00:06\n",
      "   ------------ --------------------------- 14.0/44.1 MB 5.5 MB/s eta 0:00:06\n",
      "   ------------ --------------------------- 14.3/44.1 MB 5.6 MB/s eta 0:00:06\n",
      "   ------------- -------------------------- 14.7/44.1 MB 5.7 MB/s eta 0:00:06\n",
      "   ------------- -------------------------- 14.9/44.1 MB 5.6 MB/s eta 0:00:06\n",
      "   ------------- -------------------------- 15.3/44.1 MB 5.6 MB/s eta 0:00:06\n",
      "   -------------- ------------------------- 15.5/44.1 MB 5.6 MB/s eta 0:00:06\n",
      "   -------------- ------------------------- 15.6/44.1 MB 5.6 MB/s eta 0:00:06\n",
      "   -------------- ------------------------- 15.9/44.1 MB 5.5 MB/s eta 0:00:06\n",
      "   -------------- ------------------------- 16.2/44.1 MB 5.6 MB/s eta 0:00:05\n",
      "   -------------- ------------------------- 16.4/44.1 MB 5.5 MB/s eta 0:00:05\n",
      "   --------------- ------------------------ 16.5/44.1 MB 5.5 MB/s eta 0:00:05\n",
      "   --------------- ------------------------ 16.8/44.1 MB 5.5 MB/s eta 0:00:05\n",
      "   --------------- ------------------------ 16.9/44.1 MB 5.5 MB/s eta 0:00:05\n",
      "   --------------- ------------------------ 17.1/44.1 MB 5.4 MB/s eta 0:00:05\n",
      "   --------------- ------------------------ 17.2/44.1 MB 5.4 MB/s eta 0:00:06\n",
      "   --------------- ------------------------ 17.4/44.1 MB 5.3 MB/s eta 0:00:06\n",
      "   ---------------- ----------------------- 17.6/44.1 MB 5.3 MB/s eta 0:00:06\n",
      "   ---------------- ----------------------- 17.9/44.1 MB 5.2 MB/s eta 0:00:06\n",
      "   ---------------- ----------------------- 18.1/44.1 MB 5.2 MB/s eta 0:00:05\n",
      "   ---------------- ----------------------- 18.3/44.1 MB 5.2 MB/s eta 0:00:05\n",
      "   ---------------- ----------------------- 18.5/44.1 MB 5.2 MB/s eta 0:00:05\n",
      "   ---------------- ----------------------- 18.7/44.1 MB 5.3 MB/s eta 0:00:05\n",
      "   ----------------- ---------------------- 18.9/44.1 MB 5.4 MB/s eta 0:00:05\n",
      "   ----------------- ---------------------- 19.2/44.1 MB 5.4 MB/s eta 0:00:05\n",
      "   ----------------- ---------------------- 19.4/44.1 MB 5.5 MB/s eta 0:00:05\n",
      "   ----------------- ---------------------- 19.7/44.1 MB 5.5 MB/s eta 0:00:05\n",
      "   ------------------ --------------------- 19.9/44.1 MB 5.4 MB/s eta 0:00:05\n",
      "   ------------------ --------------------- 20.0/44.1 MB 5.4 MB/s eta 0:00:05\n",
      "   ------------------ --------------------- 20.3/44.1 MB 5.5 MB/s eta 0:00:05\n",
      "   ------------------ --------------------- 20.5/44.1 MB 5.4 MB/s eta 0:00:05\n",
      "   ------------------ --------------------- 20.9/44.1 MB 5.5 MB/s eta 0:00:05\n",
      "   ------------------- -------------------- 21.1/44.1 MB 5.5 MB/s eta 0:00:05\n",
      "   ------------------- -------------------- 21.3/44.1 MB 5.5 MB/s eta 0:00:05\n",
      "   ------------------- -------------------- 21.7/44.1 MB 5.5 MB/s eta 0:00:05\n",
      "   ------------------- -------------------- 21.9/44.1 MB 5.5 MB/s eta 0:00:04\n",
      "   -------------------- ------------------- 22.4/44.1 MB 5.6 MB/s eta 0:00:04\n",
      "   -------------------- ------------------- 22.6/44.1 MB 5.6 MB/s eta 0:00:04\n",
      "   -------------------- ------------------- 23.1/44.1 MB 5.6 MB/s eta 0:00:04\n",
      "   --------------------- ------------------ 23.2/44.1 MB 5.6 MB/s eta 0:00:04\n",
      "   --------------------- ------------------ 23.6/44.1 MB 5.6 MB/s eta 0:00:04\n",
      "   --------------------- ------------------ 23.8/44.1 MB 5.7 MB/s eta 0:00:04\n",
      "   --------------------- ------------------ 24.2/44.1 MB 5.6 MB/s eta 0:00:04\n",
      "   ---------------------- ----------------- 24.6/44.1 MB 5.6 MB/s eta 0:00:04\n",
      "   ---------------------- ----------------- 24.9/44.1 MB 5.6 MB/s eta 0:00:04\n",
      "   ---------------------- ----------------- 25.2/44.1 MB 5.7 MB/s eta 0:00:04\n",
      "   ---------------------- ----------------- 25.4/44.1 MB 5.6 MB/s eta 0:00:04\n",
      "   ----------------------- ---------------- 25.8/44.1 MB 5.7 MB/s eta 0:00:04\n",
      "   ----------------------- ---------------- 26.1/44.1 MB 5.8 MB/s eta 0:00:04\n",
      "   ------------------------ --------------- 26.5/44.1 MB 5.9 MB/s eta 0:00:03\n",
      "   ------------------------ --------------- 26.9/44.1 MB 6.0 MB/s eta 0:00:03\n",
      "   ------------------------ --------------- 27.3/44.1 MB 6.2 MB/s eta 0:00:03\n",
      "   ------------------------- -------------- 27.6/44.1 MB 6.3 MB/s eta 0:00:03\n",
      "   ------------------------- -------------- 27.8/44.1 MB 6.4 MB/s eta 0:00:03\n",
      "   ------------------------- -------------- 27.9/44.1 MB 6.2 MB/s eta 0:00:03\n",
      "   ------------------------- -------------- 28.0/44.1 MB 6.1 MB/s eta 0:00:03\n",
      "   ------------------------- -------------- 28.5/44.1 MB 6.3 MB/s eta 0:00:03\n",
      "   ------------------------- -------------- 28.7/44.1 MB 6.3 MB/s eta 0:00:03\n",
      "   -------------------------- ------------- 28.9/44.1 MB 6.3 MB/s eta 0:00:03\n",
      "   -------------------------- ------------- 29.2/44.1 MB 6.4 MB/s eta 0:00:03\n",
      "   -------------------------- ------------- 29.5/44.1 MB 6.4 MB/s eta 0:00:03\n",
      "   --------------------------- ------------ 29.8/44.1 MB 6.5 MB/s eta 0:00:03\n",
      "   --------------------------- ------------ 29.9/44.1 MB 6.4 MB/s eta 0:00:03\n",
      "   --------------------------- ------------ 30.2/44.1 MB 6.5 MB/s eta 0:00:03\n",
      "   --------------------------- ------------ 30.5/44.1 MB 6.4 MB/s eta 0:00:03\n",
      "   --------------------------- ------------ 30.8/44.1 MB 6.5 MB/s eta 0:00:03\n",
      "   ---------------------------- ----------- 31.0/44.1 MB 6.5 MB/s eta 0:00:03\n",
      "   ---------------------------- ----------- 31.1/44.1 MB 6.2 MB/s eta 0:00:03\n",
      "   ---------------------------- ----------- 31.4/44.1 MB 6.4 MB/s eta 0:00:02\n",
      "   ---------------------------- ----------- 31.6/44.1 MB 6.3 MB/s eta 0:00:02\n",
      "   ---------------------------- ----------- 31.9/44.1 MB 6.3 MB/s eta 0:00:02\n",
      "   ---------------------------- ----------- 31.9/44.1 MB 6.3 MB/s eta 0:00:02\n",
      "   ----------------------------- ---------- 32.2/44.1 MB 6.2 MB/s eta 0:00:02\n",
      "   ----------------------------- ---------- 32.4/44.1 MB 6.1 MB/s eta 0:00:02\n",
      "   ----------------------------- ---------- 32.5/44.1 MB 6.0 MB/s eta 0:00:02\n",
      "   ----------------------------- ---------- 32.8/44.1 MB 6.0 MB/s eta 0:00:02\n",
      "   ----------------------------- ---------- 33.0/44.1 MB 5.9 MB/s eta 0:00:02\n",
      "   ----------------------------- ---------- 33.1/44.1 MB 5.8 MB/s eta 0:00:02\n",
      "   ------------------------------ --------- 33.2/44.1 MB 5.7 MB/s eta 0:00:02\n",
      "   ------------------------------ --------- 33.4/44.1 MB 5.6 MB/s eta 0:00:02\n",
      "   ------------------------------ --------- 33.6/44.1 MB 5.5 MB/s eta 0:00:02\n",
      "   ------------------------------ --------- 33.8/44.1 MB 5.5 MB/s eta 0:00:02\n",
      "   ------------------------------ --------- 34.0/44.1 MB 5.4 MB/s eta 0:00:02\n",
      "   ------------------------------ --------- 34.2/44.1 MB 5.4 MB/s eta 0:00:02\n",
      "   ------------------------------- -------- 34.2/44.1 MB 5.4 MB/s eta 0:00:02\n",
      "   ------------------------------- -------- 34.4/44.1 MB 5.2 MB/s eta 0:00:02\n",
      "   ------------------------------- -------- 34.5/44.1 MB 5.2 MB/s eta 0:00:02\n",
      "   ------------------------------- -------- 34.6/44.1 MB 5.1 MB/s eta 0:00:02\n",
      "   ------------------------------- -------- 34.7/44.1 MB 5.1 MB/s eta 0:00:02\n",
      "   ------------------------------- -------- 34.8/44.1 MB 5.0 MB/s eta 0:00:02\n",
      "   ------------------------------- -------- 35.0/44.1 MB 4.9 MB/s eta 0:00:02\n",
      "   ------------------------------- -------- 35.1/44.1 MB 4.8 MB/s eta 0:00:02\n",
      "   ------------------------------- -------- 35.3/44.1 MB 4.7 MB/s eta 0:00:02\n",
      "   -------------------------------- ------- 35.3/44.1 MB 4.7 MB/s eta 0:00:02\n",
      "   -------------------------------- ------- 35.4/44.1 MB 4.6 MB/s eta 0:00:02\n",
      "   -------------------------------- ------- 35.6/44.1 MB 4.6 MB/s eta 0:00:02\n",
      "   -------------------------------- ------- 35.7/44.1 MB 4.5 MB/s eta 0:00:02\n",
      "   -------------------------------- ------- 35.9/44.1 MB 4.5 MB/s eta 0:00:02\n",
      "   -------------------------------- ------- 36.1/44.1 MB 4.4 MB/s eta 0:00:02\n",
      "   -------------------------------- ------- 36.2/44.1 MB 4.4 MB/s eta 0:00:02\n",
      "   --------------------------------- ------ 36.4/44.1 MB 4.3 MB/s eta 0:00:02\n",
      "   --------------------------------- ------ 36.5/44.1 MB 4.3 MB/s eta 0:00:02\n",
      "   --------------------------------- ------ 36.7/44.1 MB 4.2 MB/s eta 0:00:02\n",
      "   --------------------------------- ------ 36.8/44.1 MB 4.2 MB/s eta 0:00:02\n",
      "   --------------------------------- ------ 37.0/44.1 MB 4.1 MB/s eta 0:00:02\n",
      "   --------------------------------- ------ 37.1/44.1 MB 4.1 MB/s eta 0:00:02\n",
      "   --------------------------------- ------ 37.3/44.1 MB 4.1 MB/s eta 0:00:02\n",
      "   --------------------------------- ------ 37.4/44.1 MB 4.0 MB/s eta 0:00:02\n",
      "   ---------------------------------- ----- 37.6/44.1 MB 4.0 MB/s eta 0:00:02\n",
      "   ---------------------------------- ----- 37.8/44.1 MB 4.0 MB/s eta 0:00:02\n",
      "   ---------------------------------- ----- 38.1/44.1 MB 4.0 MB/s eta 0:00:02\n",
      "   ---------------------------------- ----- 38.3/44.1 MB 4.1 MB/s eta 0:00:02\n",
      "   ---------------------------------- ----- 38.5/44.1 MB 4.0 MB/s eta 0:00:02\n",
      "   ----------------------------------- ---- 38.8/44.1 MB 4.0 MB/s eta 0:00:02\n",
      "   ----------------------------------- ---- 38.9/44.1 MB 4.0 MB/s eta 0:00:02\n",
      "   ----------------------------------- ---- 39.1/44.1 MB 3.9 MB/s eta 0:00:02\n",
      "   ----------------------------------- ---- 39.3/44.1 MB 3.9 MB/s eta 0:00:02\n",
      "   ----------------------------------- ---- 39.7/44.1 MB 3.9 MB/s eta 0:00:02\n",
      "   ------------------------------------ --- 40.0/44.1 MB 3.9 MB/s eta 0:00:02\n",
      "   ------------------------------------ --- 40.2/44.1 MB 3.9 MB/s eta 0:00:02\n",
      "   ------------------------------------ --- 40.4/44.1 MB 3.9 MB/s eta 0:00:01\n",
      "   ------------------------------------ --- 40.7/44.1 MB 3.9 MB/s eta 0:00:01\n",
      "   ------------------------------------- -- 40.9/44.1 MB 3.9 MB/s eta 0:00:01\n",
      "   ------------------------------------- -- 41.2/44.1 MB 3.9 MB/s eta 0:00:01\n",
      "   ------------------------------------- -- 41.4/44.1 MB 4.0 MB/s eta 0:00:01\n",
      "   ------------------------------------- -- 41.6/44.1 MB 3.9 MB/s eta 0:00:01\n",
      "   ------------------------------------- -- 41.8/44.1 MB 3.9 MB/s eta 0:00:01\n",
      "   -------------------------------------- - 42.1/44.1 MB 3.9 MB/s eta 0:00:01\n",
      "   -------------------------------------- - 42.4/44.1 MB 4.0 MB/s eta 0:00:01\n",
      "   -------------------------------------- - 42.6/44.1 MB 4.0 MB/s eta 0:00:01\n",
      "   ---------------------------------------  43.0/44.1 MB 4.1 MB/s eta 0:00:01\n",
      "   ---------------------------------------  43.3/44.1 MB 4.1 MB/s eta 0:00:01\n",
      "   ---------------------------------------  43.5/44.1 MB 4.1 MB/s eta 0:00:01\n",
      "   ---------------------------------------  43.7/44.1 MB 4.2 MB/s eta 0:00:01\n",
      "   ---------------------------------------  44.1/44.1 MB 4.2 MB/s eta 0:00:01\n",
      "   ---------------------------------------  44.1/44.1 MB 4.2 MB/s eta 0:00:01\n",
      "   ---------------------------------------  44.1/44.1 MB 4.2 MB/s eta 0:00:01\n",
      "   ---------------------------------------  44.1/44.1 MB 4.2 MB/s eta 0:00:01\n",
      "   ---------------------------------------  44.1/44.1 MB 4.2 MB/s eta 0:00:01\n",
      "   ---------------------------------------- 44.1/44.1 MB 3.8 MB/s eta 0:00:00\n",
      "Installing collected packages: scipy\n",
      "Successfully installed scipy-1.11.3\n",
      "Note: you may need to restart the kernel to use updated packages.\n"
     ]
    }
   ],
   "source": [
    "pip install scipy"
   ]
  },
  {
   "cell_type": "code",
   "execution_count": 5,
   "id": "2b396383",
   "metadata": {},
   "outputs": [],
   "source": [
    "kissan=np.arange(1,2)"
   ]
  },
  {
   "cell_type": "code",
   "execution_count": 69,
   "id": "8d31c40c",
   "metadata": {},
   "outputs": [
    {
     "data": {
      "text/plain": [
       "array([1])"
      ]
     },
     "execution_count": 69,
     "metadata": {},
     "output_type": "execute_result"
    }
   ],
   "source": [
    "kissan"
   ]
  },
  {
   "cell_type": "code",
   "execution_count": 71,
   "id": "b1524c3e",
   "metadata": {},
   "outputs": [
    {
     "data": {
      "text/plain": [
       "array([ 0,  1,  2,  3,  4,  5,  6,  7,  8,  9, 10, 11, 12, 13, 14, 15, 16,\n",
       "       17, 18, 19])"
      ]
     },
     "execution_count": 71,
     "metadata": {},
     "output_type": "execute_result"
    }
   ],
   "source": [
    "x"
   ]
  },
  {
   "cell_type": "code",
   "execution_count": null,
   "id": "73fee735",
   "metadata": {},
   "outputs": [],
   "source": [
    "#Use of np.arange function"
   ]
  },
  {
   "cell_type": "code",
   "execution_count": 62,
   "id": "5ab0ada4",
   "metadata": {},
   "outputs": [
    {
     "data": {
      "text/plain": [
       "array([1, 6])"
      ]
     },
     "execution_count": 62,
     "metadata": {},
     "output_type": "execute_result"
    }
   ],
   "source": [
    "np.arange(1,10,5)"
   ]
  },
  {
   "cell_type": "code",
   "execution_count": null,
   "id": "e6f7fa56",
   "metadata": {},
   "outputs": [],
   "source": [
    "#Use of np.random.randint function"
   ]
  },
  {
   "cell_type": "code",
   "execution_count": 73,
   "id": "136d2213",
   "metadata": {},
   "outputs": [
    {
     "data": {
      "text/plain": [
       "array([5, 7, 4])"
      ]
     },
     "execution_count": 73,
     "metadata": {},
     "output_type": "execute_result"
    }
   ],
   "source": [
    "np.random.randint(1,10,3)"
   ]
  },
  {
   "cell_type": "code",
   "execution_count": null,
   "id": "543b3926",
   "metadata": {},
   "outputs": [],
   "source": [
    "#Use of pmf function"
   ]
  },
  {
   "cell_type": "code",
   "execution_count": 64,
   "id": "73fe1f33",
   "metadata": {},
   "outputs": [],
   "source": [
    "pmf = poisson.pmf(x,3)"
   ]
  },
  {
   "cell_type": "code",
   "execution_count": 65,
   "id": "d21c2234",
   "metadata": {},
   "outputs": [
    {
     "data": {
      "text/plain": [
       "array([4.97870684e-02, 1.49361205e-01, 2.24041808e-01, 2.24041808e-01,\n",
       "       1.68031356e-01, 1.00818813e-01, 5.04094067e-02, 2.16040315e-02,\n",
       "       8.10151179e-03, 2.70050393e-03, 8.10151179e-04, 2.20950322e-04,\n",
       "       5.52375804e-05, 1.27471339e-05, 2.73152870e-06, 5.46305740e-07,\n",
       "       1.02432326e-07, 1.80762929e-08, 3.01271548e-09, 4.75691918e-10])"
      ]
     },
     "execution_count": 65,
     "metadata": {},
     "output_type": "execute_result"
    }
   ],
   "source": [
    "pmf"
   ]
  },
  {
   "cell_type": "code",
   "execution_count": 10,
   "id": "52ec8cc0",
   "metadata": {},
   "outputs": [
    {
     "data": {
      "text/plain": [
       "1"
      ]
     },
     "execution_count": 10,
     "metadata": {},
     "output_type": "execute_result"
    }
   ],
   "source": [
    "pmf.ndim # to know the dimension"
   ]
  },
  {
   "cell_type": "code",
   "execution_count": 24,
   "id": "40543917",
   "metadata": {},
   "outputs": [
    {
     "data": {
      "text/plain": [
       "array([0.04978707])"
      ]
     },
     "execution_count": 24,
     "metadata": {},
     "output_type": "execute_result"
    }
   ],
   "source": [
    "pmf[0:1] # To fetch the inside values"
   ]
  },
  {
   "cell_type": "code",
   "execution_count": 28,
   "id": "01ae86fc",
   "metadata": {},
   "outputs": [
    {
     "data": {
      "text/plain": [
       "array([0.14936121])"
      ]
     },
     "execution_count": 28,
     "metadata": {},
     "output_type": "execute_result"
    }
   ],
   "source": [
    "pmf[1:2]"
   ]
  },
  {
   "cell_type": "code",
   "execution_count": 25,
   "id": "0885035d",
   "metadata": {},
   "outputs": [
    {
     "data": {
      "text/plain": [
       "array([0.10081881])"
      ]
     },
     "execution_count": 25,
     "metadata": {},
     "output_type": "execute_result"
    }
   ],
   "source": [
    "pmf[5:6]"
   ]
  },
  {
   "cell_type": "code",
   "execution_count": 10,
   "id": "1441951a",
   "metadata": {},
   "outputs": [
    {
     "data": {
      "image/png": "[encoded data removed]",
      "text/plain": [
       "<Figure size 640x480 with 1 Axes>"
      ]
     },
     "metadata": {},
     "output_type": "display_data"
    }
   ],
   "source": [
    "#Visualizing the results\n",
    "sb.set_style('whitegrid')\n",
    "plt.vlines(x ,0, pmf, colors='green', linestyles='-', lw=10)\n",
    "plt.ylabel('Probability')\n",
    "plt.xlabel('intervals')\n",
    "plt.show()"
   ]
  },
  {
   "cell_type": "code",
   "execution_count": 26,
   "id": "8df7208b",
   "metadata": {},
   "outputs": [],
   "source": [
    "import seaborn as sb\n",
    "import matplotlib.pyplot as plt\n",
    "import numpy as np\n",
    "from scipy.stats import poisson\n",
    " \n",
    "#Applying the poisson class methods\n",
    "x = np.arange(0,20)\n"
   ]
  },
  {
   "cell_type": "code",
   "execution_count": 27,
   "id": "b3175e4c",
   "metadata": {},
   "outputs": [
    {
     "data": {
      "text/plain": [
       "array([ 0,  1,  2,  3,  4,  5,  6,  7,  8,  9, 10, 11, 12, 13, 14, 15, 16,\n",
       "       17, 18, 19])"
      ]
     },
     "execution_count": 27,
     "metadata": {},
     "output_type": "execute_result"
    }
   ],
   "source": [
    "x\n"
   ]
  },
  {
   "cell_type": "code",
   "execution_count": null,
   "id": "84fb3d1a",
   "metadata": {},
   "outputs": [],
   "source": [
    "#Lambda =5"
   ]
  },
  {
   "cell_type": "code",
   "execution_count": 35,
   "id": "b15752ff",
   "metadata": {},
   "outputs": [],
   "source": [
    "pmf = poisson.pmf(x,3)"
   ]
  },
  {
   "cell_type": "code",
   "execution_count": 32,
   "id": "345852b4",
   "metadata": {},
   "outputs": [
    {
     "data": {
      "text/plain": [
       "array([6.73794700e-03, 3.36897350e-02, 8.42243375e-02, 1.40373896e-01,\n",
       "       1.75467370e-01, 1.75467370e-01, 1.46222808e-01, 1.04444863e-01,\n",
       "       6.52780393e-02, 3.62655774e-02, 1.81327887e-02, 8.24217669e-03,\n",
       "       3.43424029e-03, 1.32086165e-03, 4.71736303e-04, 1.57245434e-04,\n",
       "       4.91391982e-05, 1.44527054e-05, 4.01464038e-06, 1.05648431e-06])"
      ]
     },
     "execution_count": 32,
     "metadata": {},
     "output_type": "execute_result"
    }
   ],
   "source": [
    "pmf"
   ]
  },
  {
   "cell_type": "code",
   "execution_count": 36,
   "id": "d2679379",
   "metadata": {},
   "outputs": [
    {
     "data": {
      "text/plain": [
       "array([0.04978707, 0.14936121, 0.22404181])"
      ]
     },
     "execution_count": 36,
     "metadata": {},
     "output_type": "execute_result"
    }
   ],
   "source": [
    "pmf[:3]"
   ]
  },
  {
   "cell_type": "code",
   "execution_count": 46,
   "id": "2ef5a8c8",
   "metadata": {},
   "outputs": [],
   "source": [
    "x=np.arange(0,30)"
   ]
  },
  {
   "cell_type": "code",
   "execution_count": 47,
   "id": "62a74958",
   "metadata": {},
   "outputs": [
    {
     "data": {
      "text/plain": [
       "array([ 0,  1,  2,  3,  4,  5,  6,  7,  8,  9, 10, 11, 12, 13, 14, 15, 16,\n",
       "       17, 18, 19, 20, 21, 22, 23, 24, 25, 26, 27, 28, 29])"
      ]
     },
     "execution_count": 47,
     "metadata": {},
     "output_type": "execute_result"
    }
   ],
   "source": [
    "x"
   ]
  },
  {
   "cell_type": "code",
   "execution_count": 50,
   "id": "c50367f4",
   "metadata": {},
   "outputs": [],
   "source": [
    "pmf = poisson.pmf(5,3)"
   ]
  },
  {
   "cell_type": "code",
   "execution_count": 51,
   "id": "0daed0a6",
   "metadata": {},
   "outputs": [
    {
     "data": {
      "text/plain": [
       "0.10081881344492458"
      ]
     },
     "execution_count": 51,
     "metadata": {},
     "output_type": "execute_result"
    }
   ],
   "source": [
    "pmf"
   ]
  },
  {
   "cell_type": "code",
   "execution_count": null,
   "id": "8157c29d",
   "metadata": {},
   "outputs": [],
   "source": [
    "#A certain store sells seven footballs per day on average. Forecast the probability that this store sells four or less footballs in a given day?"
   ]
  },
  {
   "cell_type": "code",
   "execution_count": 52,
   "id": "db09c44c",
   "metadata": {},
   "outputs": [
    {
     "data": {
      "text/plain": [
       "0.172992"
      ]
     },
     "execution_count": 52,
     "metadata": {},
     "output_type": "execute_result"
    }
   ],
   "source": [
    "from scipy.stats import poisson\n",
    "\n",
    "#calculate probability\n",
    "poisson.cdf(k=4, mu=7)\n",
    "\n",
    "0.172992"
   ]
  },
  {
   "cell_type": "code",
   "execution_count": null,
   "id": "9095fcbe",
   "metadata": {},
   "outputs": [],
   "source": [
    "#A certain store sells 15 cans of tuna per day on average. Forecast the probability that this store sells more than 20 cans of tuna in a given day?"
   ]
  },
  {
   "cell_type": "code",
   "execution_count": 54,
   "id": "5c009fc1",
   "metadata": {},
   "outputs": [],
   "source": [
    "#calculate probability\n",
    "m=poisson.cdf(k=20, mu=15)"
   ]
  },
  {
   "cell_type": "code",
   "execution_count": 55,
   "id": "8bd8758f",
   "metadata": {},
   "outputs": [
    {
     "data": {
      "text/plain": [
       "0.9170290899685397"
      ]
     },
     "execution_count": 55,
     "metadata": {},
     "output_type": "execute_result"
    }
   ],
   "source": [
    "m"
   ]
  },
  {
   "cell_type": "code",
   "execution_count": 56,
   "id": "7ff1f801",
   "metadata": {},
   "outputs": [
    {
     "data": {
      "text/plain": [
       "0.08297091003146029"
      ]
     },
     "execution_count": 56,
     "metadata": {},
     "output_type": "execute_result"
    }
   ],
   "source": [
    "1-m"
   ]
  },
  {
   "cell_type": "code",
   "execution_count": null,
   "id": "71e768ca",
   "metadata": {},
   "outputs": [],
   "source": []
  }
 ],
 "metadata": {
  "kernelspec": {
   "display_name": "Python 3 (ipykernel)",
   "language": "python",
   "name": "python3"
  },
  "language_info": {
   "codemirror_mode": {
    "name": "ipython",
    "version": 3
   },
   "file_extension": ".py",
   "mimetype": "text/x-python",
   "name": "python",
   "nbconvert_exporter": "python",
   "pygments_lexer": "ipython3",
   "version": "3.11.6"
  }
 },
 "nbformat": 4,
 "nbformat_minor": 5
}
